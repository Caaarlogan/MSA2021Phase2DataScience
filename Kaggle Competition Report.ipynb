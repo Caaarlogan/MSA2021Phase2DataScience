{
 "cells": [
  {
   "cell_type": "code",
   "execution_count": 1,
   "id": "e42b83d7",
   "metadata": {
    "_cell_guid": "b1076dfc-b9ad-4769-8c92-a6c4dae69d19",
    "_uuid": "8f2839f25d086af736a60e9eeb907d3b93b6e0e5",
    "execution": {
     "iopub.execute_input": "2021-08-02T22:25:02.022720Z",
     "iopub.status.busy": "2021-08-02T22:25:02.021683Z",
     "iopub.status.idle": "2021-08-02T22:25:02.977409Z",
     "shell.execute_reply": "2021-08-02T22:25:02.976810Z",
     "shell.execute_reply.started": "2021-08-02T14:58:12.882409Z"
    },
    "papermill": {
     "duration": 0.990198,
     "end_time": "2021-08-02T22:25:02.977575",
     "exception": false,
     "start_time": "2021-08-02T22:25:01.987377",
     "status": "completed"
    },
    "tags": []
   },
   "outputs": [
    {
     "name": "stdout",
     "output_type": "stream",
     "text": [
      "/kaggle/input/commonlitreadabilityprize/sample_submission.csv\n",
      "/kaggle/input/commonlitreadabilityprize/train.csv\n",
      "/kaggle/input/commonlitreadabilityprize/test.csv\n"
     ]
    }
   ],
   "source": [
    "# Import libraries\n",
    "import numpy as np\n",
    "import pandas as pd\n",
    "import matplotlib.pyplot as plt\n",
    "from sklearn.feature_extraction.text import TfidfVectorizer\n",
    "from sklearn.model_selection import train_test_split\n",
    "from sklearn.neural_network import MLPRegressor\n",
    "from sklearn import tree\n",
    "from sklearn.cross_decomposition import PLSRegression\n",
    "from sklearn.neighbors import KNeighborsRegressor\n",
    "from sklearn import svm\n",
    "from sklearn.kernel_ridge import KernelRidge\n",
    "from sklearn.metrics import mean_squared_error\n",
    "from sklearn.model_selection import GridSearchCV\n",
    "from sklearn.model_selection import cross_validate\n",
    "from sklearn.metrics import accuracy_score\n",
    "from sklearn.preprocessing import MaxAbsScaler\n",
    "from sklearn.metrics import mean_absolute_error\n",
    "from sklearn.model_selection import validation_curve\n",
    "from sklearn.model_selection import KFold\n",
    "np.random.seed(0)\n",
    "plt.style.use('ggplot')"
   ]
  },
  {
   "cell_type": "code",
   "execution_count": 2,
   "id": "131c44bd",
   "metadata": {
    "execution": {
     "iopub.execute_input": "2021-08-02T22:25:03.020385Z",
     "iopub.status.busy": "2021-08-02T22:25:03.019703Z",
     "iopub.status.idle": "2021-08-02T22:25:03.128209Z",
     "shell.execute_reply": "2021-08-02T22:25:03.127674Z",
     "shell.execute_reply.started": "2021-08-02T14:58:12.900033Z"
    },
    "papermill": {
     "duration": 0.130503,
     "end_time": "2021-08-02T22:25:03.128340",
     "exception": false,
     "start_time": "2021-08-02T22:25:02.997837",
     "status": "completed"
    },
    "tags": []
   },
   "outputs": [],
   "source": [
    "# Import training and testing data\n",
    "train_data = pd.read_csv('train.csv')\n",
    "test_data = pd.read_csv('test.csv')"
   ]
  },
  {
   "cell_type": "code",
   "execution_count": 3,
   "id": "7dbf35c9",
   "metadata": {
    "execution": {
     "iopub.execute_input": "2021-08-02T22:25:03.171759Z",
     "iopub.status.busy": "2021-08-02T22:25:03.171028Z",
     "iopub.status.idle": "2021-08-02T22:25:03.191121Z",
     "shell.execute_reply": "2021-08-02T22:25:03.191646Z",
     "shell.execute_reply.started": "2021-08-02T14:58:12.948631Z"
    },
    "papermill": {
     "duration": 0.045567,
     "end_time": "2021-08-02T22:25:03.191834",
     "exception": false,
     "start_time": "2021-08-02T22:25:03.146267",
     "status": "completed"
    },
    "tags": []
   },
   "outputs": [
    {
     "data": {
      "text/html": [
       "<div>\n",
       "<style scoped>\n",
       "    .dataframe tbody tr th:only-of-type {\n",
       "        vertical-align: middle;\n",
       "    }\n",
       "\n",
       "    .dataframe tbody tr th {\n",
       "        vertical-align: top;\n",
       "    }\n",
       "\n",
       "    .dataframe thead th {\n",
       "        text-align: right;\n",
       "    }\n",
       "</style>\n",
       "<table border=\"1\" class=\"dataframe\">\n",
       "  <thead>\n",
       "    <tr style=\"text-align: right;\">\n",
       "      <th></th>\n",
       "      <th>id</th>\n",
       "      <th>url_legal</th>\n",
       "      <th>license</th>\n",
       "      <th>excerpt</th>\n",
       "      <th>target</th>\n",
       "      <th>standard_error</th>\n",
       "    </tr>\n",
       "  </thead>\n",
       "  <tbody>\n",
       "    <tr>\n",
       "      <th>0</th>\n",
       "      <td>c12129c31</td>\n",
       "      <td>NaN</td>\n",
       "      <td>NaN</td>\n",
       "      <td>When the young people returned to the ballroom...</td>\n",
       "      <td>-0.340259</td>\n",
       "      <td>0.464009</td>\n",
       "    </tr>\n",
       "    <tr>\n",
       "      <th>1</th>\n",
       "      <td>85aa80a4c</td>\n",
       "      <td>NaN</td>\n",
       "      <td>NaN</td>\n",
       "      <td>All through dinner time, Mrs. Fayre was somewh...</td>\n",
       "      <td>-0.315372</td>\n",
       "      <td>0.480805</td>\n",
       "    </tr>\n",
       "    <tr>\n",
       "      <th>2</th>\n",
       "      <td>b69ac6792</td>\n",
       "      <td>NaN</td>\n",
       "      <td>NaN</td>\n",
       "      <td>As Roger had predicted, the snow departed as q...</td>\n",
       "      <td>-0.580118</td>\n",
       "      <td>0.476676</td>\n",
       "    </tr>\n",
       "    <tr>\n",
       "      <th>3</th>\n",
       "      <td>dd1000b26</td>\n",
       "      <td>NaN</td>\n",
       "      <td>NaN</td>\n",
       "      <td>And outside before the palace a great garden w...</td>\n",
       "      <td>-1.054013</td>\n",
       "      <td>0.450007</td>\n",
       "    </tr>\n",
       "    <tr>\n",
       "      <th>4</th>\n",
       "      <td>37c1b32fb</td>\n",
       "      <td>NaN</td>\n",
       "      <td>NaN</td>\n",
       "      <td>Once upon a time there were Three Bears who li...</td>\n",
       "      <td>0.247197</td>\n",
       "      <td>0.510845</td>\n",
       "    </tr>\n",
       "  </tbody>\n",
       "</table>\n",
       "</div>"
      ],
      "text/plain": [
       "          id url_legal license  \\\n",
       "0  c12129c31       NaN     NaN   \n",
       "1  85aa80a4c       NaN     NaN   \n",
       "2  b69ac6792       NaN     NaN   \n",
       "3  dd1000b26       NaN     NaN   \n",
       "4  37c1b32fb       NaN     NaN   \n",
       "\n",
       "                                             excerpt    target  standard_error  \n",
       "0  When the young people returned to the ballroom... -0.340259        0.464009  \n",
       "1  All through dinner time, Mrs. Fayre was somewh... -0.315372        0.480805  \n",
       "2  As Roger had predicted, the snow departed as q... -0.580118        0.476676  \n",
       "3  And outside before the palace a great garden w... -1.054013        0.450007  \n",
       "4  Once upon a time there were Three Bears who li...  0.247197        0.510845  "
      ]
     },
     "execution_count": 3,
     "metadata": {},
     "output_type": "execute_result"
    }
   ],
   "source": [
    "# Display first 5 rows of training data\n",
    "train_data.head()"
   ]
  },
  {
   "cell_type": "code",
   "execution_count": 4,
   "id": "e75dd3a1",
   "metadata": {
    "execution": {
     "iopub.execute_input": "2021-08-02T22:25:03.241717Z",
     "iopub.status.busy": "2021-08-02T22:25:03.241211Z",
     "iopub.status.idle": "2021-08-02T22:25:03.247156Z",
     "shell.execute_reply": "2021-08-02T22:25:03.246619Z",
     "shell.execute_reply.started": "2021-08-02T14:58:12.964743Z"
    },
    "papermill": {
     "duration": 0.032987,
     "end_time": "2021-08-02T22:25:03.247279",
     "exception": false,
     "start_time": "2021-08-02T22:25:03.214292",
     "status": "completed"
    },
    "tags": []
   },
   "outputs": [
    {
     "data": {
      "text/html": [
       "<div>\n",
       "<style scoped>\n",
       "    .dataframe tbody tr th:only-of-type {\n",
       "        vertical-align: middle;\n",
       "    }\n",
       "\n",
       "    .dataframe tbody tr th {\n",
       "        vertical-align: top;\n",
       "    }\n",
       "\n",
       "    .dataframe thead th {\n",
       "        text-align: right;\n",
       "    }\n",
       "</style>\n",
       "<table border=\"1\" class=\"dataframe\">\n",
       "  <thead>\n",
       "    <tr style=\"text-align: right;\">\n",
       "      <th></th>\n",
       "      <th>id</th>\n",
       "      <th>url_legal</th>\n",
       "      <th>license</th>\n",
       "      <th>excerpt</th>\n",
       "    </tr>\n",
       "  </thead>\n",
       "  <tbody>\n",
       "    <tr>\n",
       "      <th>0</th>\n",
       "      <td>c0f722661</td>\n",
       "      <td>NaN</td>\n",
       "      <td>NaN</td>\n",
       "      <td>My hope lay in Jack's promise that he would ke...</td>\n",
       "    </tr>\n",
       "    <tr>\n",
       "      <th>1</th>\n",
       "      <td>f0953f0a5</td>\n",
       "      <td>NaN</td>\n",
       "      <td>NaN</td>\n",
       "      <td>Dotty continued to go to Mrs. Gray's every nig...</td>\n",
       "    </tr>\n",
       "    <tr>\n",
       "      <th>2</th>\n",
       "      <td>0df072751</td>\n",
       "      <td>NaN</td>\n",
       "      <td>NaN</td>\n",
       "      <td>It was a bright and cheerful scene that greete...</td>\n",
       "    </tr>\n",
       "    <tr>\n",
       "      <th>3</th>\n",
       "      <td>04caf4e0c</td>\n",
       "      <td>https://en.wikipedia.org/wiki/Cell_division</td>\n",
       "      <td>CC BY-SA 3.0</td>\n",
       "      <td>Cell division is the process by which a parent...</td>\n",
       "    </tr>\n",
       "    <tr>\n",
       "      <th>4</th>\n",
       "      <td>0e63f8bea</td>\n",
       "      <td>https://en.wikipedia.org/wiki/Debugging</td>\n",
       "      <td>CC BY-SA 3.0</td>\n",
       "      <td>Debugging is the process of finding and resolv...</td>\n",
       "    </tr>\n",
       "  </tbody>\n",
       "</table>\n",
       "</div>"
      ],
      "text/plain": [
       "          id                                    url_legal       license  \\\n",
       "0  c0f722661                                          NaN           NaN   \n",
       "1  f0953f0a5                                          NaN           NaN   \n",
       "2  0df072751                                          NaN           NaN   \n",
       "3  04caf4e0c  https://en.wikipedia.org/wiki/Cell_division  CC BY-SA 3.0   \n",
       "4  0e63f8bea      https://en.wikipedia.org/wiki/Debugging  CC BY-SA 3.0   \n",
       "\n",
       "                                             excerpt  \n",
       "0  My hope lay in Jack's promise that he would ke...  \n",
       "1  Dotty continued to go to Mrs. Gray's every nig...  \n",
       "2  It was a bright and cheerful scene that greete...  \n",
       "3  Cell division is the process by which a parent...  \n",
       "4  Debugging is the process of finding and resolv...  "
      ]
     },
     "execution_count": 4,
     "metadata": {},
     "output_type": "execute_result"
    }
   ],
   "source": [
    "test_data.head()"
   ]
  },
  {
   "cell_type": "code",
   "execution_count": 5,
   "id": "b709910b",
   "metadata": {
    "execution": {
     "iopub.execute_input": "2021-08-02T22:25:03.292269Z",
     "iopub.status.busy": "2021-08-02T22:25:03.291558Z",
     "iopub.status.idle": "2021-08-02T22:25:03.297550Z",
     "shell.execute_reply": "2021-08-02T22:25:03.296867Z",
     "shell.execute_reply.started": "2021-08-02T14:58:12.982729Z"
    },
    "papermill": {
     "duration": 0.03142,
     "end_time": "2021-08-02T22:25:03.297718",
     "exception": false,
     "start_time": "2021-08-02T22:25:03.266298",
     "status": "completed"
    },
    "tags": []
   },
   "outputs": [
    {
     "name": "stdout",
     "output_type": "stream",
     "text": [
      "-3.676267773\n",
      "1.711389827\n"
     ]
    }
   ],
   "source": [
    "print(train_data['target'].min())\n",
    "print(train_data['target'].max())"
   ]
  },
  {
   "cell_type": "markdown",
   "id": "f4923d21",
   "metadata": {
    "papermill": {
     "duration": 0.019813,
     "end_time": "2021-08-02T22:25:03.338883",
     "exception": false,
     "start_time": "2021-08-02T22:25:03.319070",
     "status": "completed"
    },
    "tags": []
   },
   "source": [
    "We have datasets that score how easy a text is to read using the \"target\" column which is the output we want. The competition didn't specify what the bounds of this score was but from the training dataset we see the minimum score is -3.68 while the maximum was 1.71. The features we can use to train a model to get this target score is limited to the features in the test data which is id, url, license, and excerpt."
   ]
  },
  {
   "cell_type": "code",
   "execution_count": 6,
   "id": "e098723d",
   "metadata": {
    "execution": {
     "iopub.execute_input": "2021-08-02T22:25:03.389030Z",
     "iopub.status.busy": "2021-08-02T22:25:03.388090Z",
     "iopub.status.idle": "2021-08-02T22:25:03.393064Z",
     "shell.execute_reply": "2021-08-02T22:25:03.392640Z",
     "shell.execute_reply.started": "2021-08-02T14:58:12.993631Z"
    },
    "papermill": {
     "duration": 0.035681,
     "end_time": "2021-08-02T22:25:03.393198",
     "exception": false,
     "start_time": "2021-08-02T22:25:03.357517",
     "status": "completed"
    },
    "tags": []
   },
   "outputs": [
    {
     "data": {
      "text/html": [
       "<div>\n",
       "<style scoped>\n",
       "    .dataframe tbody tr th:only-of-type {\n",
       "        vertical-align: middle;\n",
       "    }\n",
       "\n",
       "    .dataframe tbody tr th {\n",
       "        vertical-align: top;\n",
       "    }\n",
       "\n",
       "    .dataframe thead th {\n",
       "        text-align: right;\n",
       "    }\n",
       "</style>\n",
       "<table border=\"1\" class=\"dataframe\">\n",
       "  <thead>\n",
       "    <tr style=\"text-align: right;\">\n",
       "      <th></th>\n",
       "      <th>id</th>\n",
       "      <th>url_legal</th>\n",
       "      <th>license</th>\n",
       "      <th>excerpt</th>\n",
       "      <th>target</th>\n",
       "    </tr>\n",
       "  </thead>\n",
       "  <tbody>\n",
       "    <tr>\n",
       "      <th>0</th>\n",
       "      <td>c12129c31</td>\n",
       "      <td>NaN</td>\n",
       "      <td>NaN</td>\n",
       "      <td>When the young people returned to the ballroom...</td>\n",
       "      <td>-0.340259</td>\n",
       "    </tr>\n",
       "    <tr>\n",
       "      <th>1</th>\n",
       "      <td>85aa80a4c</td>\n",
       "      <td>NaN</td>\n",
       "      <td>NaN</td>\n",
       "      <td>All through dinner time, Mrs. Fayre was somewh...</td>\n",
       "      <td>-0.315372</td>\n",
       "    </tr>\n",
       "    <tr>\n",
       "      <th>2</th>\n",
       "      <td>b69ac6792</td>\n",
       "      <td>NaN</td>\n",
       "      <td>NaN</td>\n",
       "      <td>As Roger had predicted, the snow departed as q...</td>\n",
       "      <td>-0.580118</td>\n",
       "    </tr>\n",
       "    <tr>\n",
       "      <th>3</th>\n",
       "      <td>dd1000b26</td>\n",
       "      <td>NaN</td>\n",
       "      <td>NaN</td>\n",
       "      <td>And outside before the palace a great garden w...</td>\n",
       "      <td>-1.054013</td>\n",
       "    </tr>\n",
       "    <tr>\n",
       "      <th>4</th>\n",
       "      <td>37c1b32fb</td>\n",
       "      <td>NaN</td>\n",
       "      <td>NaN</td>\n",
       "      <td>Once upon a time there were Three Bears who li...</td>\n",
       "      <td>0.247197</td>\n",
       "    </tr>\n",
       "  </tbody>\n",
       "</table>\n",
       "</div>"
      ],
      "text/plain": [
       "          id url_legal license  \\\n",
       "0  c12129c31       NaN     NaN   \n",
       "1  85aa80a4c       NaN     NaN   \n",
       "2  b69ac6792       NaN     NaN   \n",
       "3  dd1000b26       NaN     NaN   \n",
       "4  37c1b32fb       NaN     NaN   \n",
       "\n",
       "                                             excerpt    target  \n",
       "0  When the young people returned to the ballroom... -0.340259  \n",
       "1  All through dinner time, Mrs. Fayre was somewh... -0.315372  \n",
       "2  As Roger had predicted, the snow departed as q... -0.580118  \n",
       "3  And outside before the palace a great garden w... -1.054013  \n",
       "4  Once upon a time there were Three Bears who li...  0.247197  "
      ]
     },
     "execution_count": 6,
     "metadata": {},
     "output_type": "execute_result"
    }
   ],
   "source": [
    "# Only select columns in training data set also in test data\n",
    "train_data_trim = train_data[[\"id\", \"url_legal\", \"license\", \"excerpt\", \"target\"]]\n",
    "train_data_trim.head()"
   ]
  },
  {
   "cell_type": "code",
   "execution_count": 7,
   "id": "05635dfc",
   "metadata": {
    "execution": {
     "iopub.execute_input": "2021-08-02T22:25:03.451744Z",
     "iopub.status.busy": "2021-08-02T22:25:03.448795Z",
     "iopub.status.idle": "2021-08-02T22:25:03.455789Z",
     "shell.execute_reply": "2021-08-02T22:25:03.456368Z",
     "shell.execute_reply.started": "2021-08-02T14:58:13.018222Z"
    },
    "papermill": {
     "duration": 0.039713,
     "end_time": "2021-08-02T22:25:03.456542",
     "exception": false,
     "start_time": "2021-08-02T22:25:03.416829",
     "status": "completed"
    },
    "tags": []
   },
   "outputs": [
    {
     "name": "stdout",
     "output_type": "stream",
     "text": [
      "Trainig Data\n",
      "number of null values in  id  =  0  out of  2834\n",
      "number of null values in  url_legal  =  2004  out of  2834\n",
      "number of null values in  license  =  2004  out of  2834\n",
      "number of null values in  excerpt  =  0  out of  2834\n",
      "number of null values in  target  =  0  out of  2834\n",
      "\n",
      "Test Data\n",
      "number of null values in  id  =  0  out of  7\n",
      "number of null values in  url_legal  =  4  out of  7\n",
      "number of null values in  license  =  4  out of  7\n",
      "number of null values in  excerpt  =  0  out of  7\n"
     ]
    }
   ],
   "source": [
    "# Find null values for columns\n",
    "print(\"Trainig Data\")\n",
    "for col in train_data_trim.columns:\n",
    "    print(\"number of null values in \", col, \" = \", train_data_trim[col].isnull().sum(), \" out of \", train_data_trim.shape[0])\n",
    "    \n",
    "print(\"\\nTest Data\")\n",
    "for col in test_data.columns:\n",
    "    print(\"number of null values in \", col, \" = \", test_data[col].isnull().sum(), \" out of \", test_data.shape[0])"
   ]
  },
  {
   "cell_type": "markdown",
   "id": "46a2ef39",
   "metadata": {
    "papermill": {
     "duration": 0.020266,
     "end_time": "2021-08-02T22:25:03.497088",
     "exception": false,
     "start_time": "2021-08-02T22:25:03.476822",
     "status": "completed"
    },
    "tags": []
   },
   "source": [
    "We see that a substantial amount of data in the url_legal and license columns are missing so it's infeasible to use these columns for training so we'll emit these columns as well. There's no missing rows in the other columns so they should be alright to use."
   ]
  },
  {
   "cell_type": "code",
   "execution_count": 8,
   "id": "08bae9ff",
   "metadata": {
    "execution": {
     "iopub.execute_input": "2021-08-02T22:25:03.551829Z",
     "iopub.status.busy": "2021-08-02T22:25:03.550801Z",
     "iopub.status.idle": "2021-08-02T22:25:03.554882Z",
     "shell.execute_reply": "2021-08-02T22:25:03.554341Z",
     "shell.execute_reply.started": "2021-08-02T14:58:13.047467Z"
    },
    "papermill": {
     "duration": 0.036512,
     "end_time": "2021-08-02T22:25:03.555001",
     "exception": false,
     "start_time": "2021-08-02T22:25:03.518489",
     "status": "completed"
    },
    "tags": []
   },
   "outputs": [
    {
     "data": {
      "text/html": [
       "<div>\n",
       "<style scoped>\n",
       "    .dataframe tbody tr th:only-of-type {\n",
       "        vertical-align: middle;\n",
       "    }\n",
       "\n",
       "    .dataframe tbody tr th {\n",
       "        vertical-align: top;\n",
       "    }\n",
       "\n",
       "    .dataframe thead th {\n",
       "        text-align: right;\n",
       "    }\n",
       "</style>\n",
       "<table border=\"1\" class=\"dataframe\">\n",
       "  <thead>\n",
       "    <tr style=\"text-align: right;\">\n",
       "      <th></th>\n",
       "      <th>id</th>\n",
       "      <th>excerpt</th>\n",
       "      <th>target</th>\n",
       "    </tr>\n",
       "  </thead>\n",
       "  <tbody>\n",
       "    <tr>\n",
       "      <th>0</th>\n",
       "      <td>c12129c31</td>\n",
       "      <td>When the young people returned to the ballroom...</td>\n",
       "      <td>-0.340259</td>\n",
       "    </tr>\n",
       "    <tr>\n",
       "      <th>1</th>\n",
       "      <td>85aa80a4c</td>\n",
       "      <td>All through dinner time, Mrs. Fayre was somewh...</td>\n",
       "      <td>-0.315372</td>\n",
       "    </tr>\n",
       "    <tr>\n",
       "      <th>2</th>\n",
       "      <td>b69ac6792</td>\n",
       "      <td>As Roger had predicted, the snow departed as q...</td>\n",
       "      <td>-0.580118</td>\n",
       "    </tr>\n",
       "    <tr>\n",
       "      <th>3</th>\n",
       "      <td>dd1000b26</td>\n",
       "      <td>And outside before the palace a great garden w...</td>\n",
       "      <td>-1.054013</td>\n",
       "    </tr>\n",
       "    <tr>\n",
       "      <th>4</th>\n",
       "      <td>37c1b32fb</td>\n",
       "      <td>Once upon a time there were Three Bears who li...</td>\n",
       "      <td>0.247197</td>\n",
       "    </tr>\n",
       "  </tbody>\n",
       "</table>\n",
       "</div>"
      ],
      "text/plain": [
       "          id                                            excerpt    target\n",
       "0  c12129c31  When the young people returned to the ballroom... -0.340259\n",
       "1  85aa80a4c  All through dinner time, Mrs. Fayre was somewh... -0.315372\n",
       "2  b69ac6792  As Roger had predicted, the snow departed as q... -0.580118\n",
       "3  dd1000b26  And outside before the palace a great garden w... -1.054013\n",
       "4  37c1b32fb  Once upon a time there were Three Bears who li...  0.247197"
      ]
     },
     "execution_count": 8,
     "metadata": {},
     "output_type": "execute_result"
    }
   ],
   "source": [
    "train_data_trim = train_data[[\"id\", \"excerpt\", \"target\"]]\n",
    "train_data_trim.head()"
   ]
  },
  {
   "cell_type": "code",
   "execution_count": 9,
   "id": "2195ccc4",
   "metadata": {
    "execution": {
     "iopub.execute_input": "2021-08-02T22:25:03.600758Z",
     "iopub.status.busy": "2021-08-02T22:25:03.599913Z",
     "iopub.status.idle": "2021-08-02T22:25:03.604178Z",
     "shell.execute_reply": "2021-08-02T22:25:03.604569Z",
     "shell.execute_reply.started": "2021-08-02T14:58:13.064568Z"
    },
    "papermill": {
     "duration": 0.029109,
     "end_time": "2021-08-02T22:25:03.604693",
     "exception": false,
     "start_time": "2021-08-02T22:25:03.575584",
     "status": "completed"
    },
    "tags": []
   },
   "outputs": [
    {
     "data": {
      "text/plain": [
       "id          object\n",
       "excerpt     object\n",
       "target     float64\n",
       "dtype: object"
      ]
     },
     "execution_count": 9,
     "metadata": {},
     "output_type": "execute_result"
    }
   ],
   "source": [
    "train_data_trim.dtypes"
   ]
  },
  {
   "cell_type": "markdown",
   "id": "46606dcb",
   "metadata": {
    "papermill": {
     "duration": 0.022002,
     "end_time": "2021-08-02T22:25:03.648819",
     "exception": false,
     "start_time": "2021-08-02T22:25:03.626817",
     "status": "completed"
    },
    "tags": []
   },
   "source": [
    "As machine learning models only take in numerical input, we need to convert both the id and excerpt columns. This will be infeasible to do for the id column as there's no obvious pattern we could make use of for ids to transform it into numerical data while with the excerpt column, the text data could be tokenized and vectorized which we can do."
   ]
  },
  {
   "cell_type": "code",
   "execution_count": 10,
   "id": "6e102606",
   "metadata": {
    "execution": {
     "iopub.execute_input": "2021-08-02T22:25:03.721225Z",
     "iopub.status.busy": "2021-08-02T22:25:03.720192Z",
     "iopub.status.idle": "2021-08-02T22:25:04.402185Z",
     "shell.execute_reply": "2021-08-02T22:25:04.403174Z",
     "shell.execute_reply.started": "2021-08-02T14:58:13.076691Z"
    },
    "papermill": {
     "duration": 0.725543,
     "end_time": "2021-08-02T22:25:04.403442",
     "exception": false,
     "start_time": "2021-08-02T22:25:03.677899",
     "status": "completed"
    },
    "tags": []
   },
   "outputs": [],
   "source": [
    "# Vectorize words of train data\n",
    "vectorizer = TfidfVectorizer(\n",
    "    strip_accents='unicode',\n",
    "    stop_words='english',\n",
    "    token_pattern=r'(?u)\\b[A-Za-z]+\\b',\n",
    "    lowercase=True,\n",
    "    max_features=13000) #looped through multiple numbers and had minimal rmse with 13000 features\n",
    "\n",
    "X = vectorizer.fit_transform(train_data['excerpt'].values)\n",
    "\n",
    "# Get target values of train data\n",
    "y = train_data.loc[:,'target']"
   ]
  },
  {
   "cell_type": "code",
   "execution_count": 11,
   "id": "28eb0218",
   "metadata": {
    "execution": {
     "iopub.execute_input": "2021-08-02T22:25:04.499602Z",
     "iopub.status.busy": "2021-08-02T22:25:04.498744Z",
     "iopub.status.idle": "2021-08-02T22:25:04.502175Z",
     "shell.execute_reply": "2021-08-02T22:25:04.502628Z",
     "shell.execute_reply.started": "2021-08-02T14:58:13.761263Z"
    },
    "papermill": {
     "duration": 0.058877,
     "end_time": "2021-08-02T22:25:04.502795",
     "exception": false,
     "start_time": "2021-08-02T22:25:04.443918",
     "status": "completed"
    },
    "tags": []
   },
   "outputs": [
    {
     "name": "stdout",
     "output_type": "stream",
     "text": [
      "['aai', 'aaminah', 'abagnale', 'abandon', 'abandoned', 'abbey', 'abbreviated', 'abe', 'abebe', 'abel', 'aberration', 'abike', 'abilities', 'ability', 'able', 'aboard', 'abode', 'abounded', 'abroad', 'abruptly', 'absence', 'absolute', 'absolutely', 'absorb', 'absorbed', 'absorbing', 'absorbs', 'absorption', 'abstain', 'abstract', 'abstracted', 'abstraction', 'absurd', 'abula', 'abundance', 'abundant', 'abyss', 'abyssal', 'academic', 'academy', 'accelerate', 'accelerated', 'acceleration', 'accent', 'accept', 'acceptance', 'accepted', 'access', 'accessible', 'accident', 'accidentally', 'accommodate', 'accommodated', 'accommodation', 'accompanied', 'accompany', 'accompanying', 'accomplish', 'accomplished', 'accomplishment', 'accomplishments', 'accord', 'according', 'accordingly', 'account', 'accounted', 'accounts', 'accumulate', 'accumulation', 'accuracy', 'accurate', 'accurately', 'accused', 'accustomed', 'ache', 'achieve', 'achieved', 'achievement', 'achievements', 'acid', 'acids', 'acquaintance', 'acquaintances', 'acquainted', 'acquire', 'acquired', 'acquirement', 'acquiring', 'acres', 'acronym', 'act', 'acted', 'acting', 'action', 'actions', 'activated', 'activates', 'activation', 'activators', 'active', 'actively', 'activities', 'activity', 'acton', 'actress', 'acts', 'actual', 'actually', 'acute', 'ad', 'adam', 'adams', 'adaptation', 'adapted', 'add', 'added', 'addicted', 'adding', 'addition', 'additional', 'additionally', 'additions', 'address', 'addressed', 'addresses', 'addressing', 'adds', 'adenine', 'adequate', 'adherents', 'adjacent', 'adjoining', 'adjusted', 'adjustment', 'administer', 'administered', 'administration', 'administrative', 'admirable', 'admirably', 'admiral', 'admiration', 'admire', 'admired', 'admirers', 'admiring', 'admission', 'admit', 'admits', 'admitted', 'admixture', 'adobe', 'adolescence', 'adolescent', 'adolescents', 'adopt', 'adopted', 'adoption', 'adored', 'adorned', 'adrian', 'adult', 'adults', 'advance', 'advanced', 'advances', 'advancing', 'advantage', 'advantages', 'adventure', 'adventures', 'adventurous', 'adversary', 'advertisement', 'advertisements', 'advice', 'advised', 'advisory', 'aerial', 'aerodynamics', 'aeroplane', 'aethra', 'afar', 'afeefah', 'affair', 'affairs', 'affect', 'affectation', 'affected', 'affecting', 'affection', 'affectionate', 'affectionately', 'affects', 'afflicted', 'afford', 'afforded', 'afloat', 'afoot', 'afraid', 'africa', 'african', 'afternoon', 'afterward', 'agatha', 'age', 'aged', 'agencies', 'agency', 'agent', 'agents', 'ages', 'aggregates', 'aggression', 'aggressive', 'aggressors', 'agitated', 'agitator', 'ago', 'agony', 'agora', 'agrarian', 'agree', 'agreeable', 'agreed', 'agreement', 'agreements', 'agricultural', 'agriculture', 'agrobacterium', 'ah', 'ahead', 'ahem', 'ai', 'aid', 'aids', 'aim', 'aimed', 'aims', 'ain', 'aint', 'air', 'aircraft', 'airing', 'airplane', 'airs', 'airways', 'aisle', 'ajoh', 'akatope']\n"
     ]
    }
   ],
   "source": [
    "# Print tokenized words\n",
    "print(vectorizer.get_feature_names()[:250])"
   ]
  },
  {
   "cell_type": "code",
   "execution_count": 12,
   "id": "b930d7b3",
   "metadata": {
    "execution": {
     "iopub.execute_input": "2021-08-02T22:25:04.550452Z",
     "iopub.status.busy": "2021-08-02T22:25:04.549554Z",
     "iopub.status.idle": "2021-08-02T22:25:04.554343Z",
     "shell.execute_reply": "2021-08-02T22:25:04.553945Z",
     "shell.execute_reply.started": "2021-08-02T14:58:13.781934Z"
    },
    "papermill": {
     "duration": 0.029743,
     "end_time": "2021-08-02T22:25:04.554448",
     "exception": false,
     "start_time": "2021-08-02T22:25:04.524705",
     "status": "completed"
    },
    "tags": []
   },
   "outputs": [],
   "source": [
    "# Split data into train and validation sets\n",
    "X_train, X_val, y_train, y_val = train_test_split(X, y, test_size = 0.2, random_state = 42)"
   ]
  },
  {
   "cell_type": "code",
   "execution_count": 13,
   "id": "3d406ff3",
   "metadata": {
    "execution": {
     "iopub.execute_input": "2021-08-02T22:25:04.604598Z",
     "iopub.status.busy": "2021-08-02T22:25:04.603781Z",
     "iopub.status.idle": "2021-08-02T22:25:30.728526Z",
     "shell.execute_reply": "2021-08-02T22:25:30.729557Z",
     "shell.execute_reply.started": "2021-08-02T14:58:13.796339Z"
    },
    "papermill": {
     "duration": 26.15555,
     "end_time": "2021-08-02T22:25:30.729886",
     "exception": false,
     "start_time": "2021-08-02T22:25:04.574336",
     "status": "completed"
    },
    "tags": []
   },
   "outputs": [
    {
     "name": "stdout",
     "output_type": "stream",
     "text": [
      "MLP Regressor :  0.7558103587312314\n",
      "Decision Tree Regressor :  1.2176665865952547\n",
      "K Neighbors Regressor :  0.9012276667825023\n",
      "Support Vector Regression :  0.7933053740691738\n",
      "Kernel Ridge :  0.7849454521688869\n"
     ]
    }
   ],
   "source": [
    "# Test different models to see best result\n",
    "models = [MLPRegressor(random_state=42), tree.DecisionTreeRegressor(), KNeighborsRegressor(), svm.SVR(), KernelRidge()]\n",
    "modelnames = [\"MLP Regressor\", \"Decision Tree Regressor\", \"K Neighbors Regressor\", \"Support Vector Regression\", \"Kernel Ridge\"]\n",
    "\n",
    "for index,model in enumerate(models):\n",
    "    # Train model to fit training data\n",
    "    regr = model.fit(X_train,y_train)\n",
    "    \n",
    "    # Get mean square error for validation data\n",
    "    validation_preds = regr.predict(X_val)\n",
    "    print(modelnames[index], \": \", mean_squared_error(y_val, validation_preds, squared=False))"
   ]
  },
  {
   "cell_type": "markdown",
   "id": "7f65fa97",
   "metadata": {
    "papermill": {
     "duration": 0.045706,
     "end_time": "2021-08-02T22:25:30.816088",
     "exception": false,
     "start_time": "2021-08-02T22:25:30.770382",
     "status": "completed"
    },
    "tags": []
   },
   "source": [
    "We can see after testing multiple regression models with their default settings, MLP Regressor gives us the lowest mean square error which is what we're trying to minimize for this contest. We'll use this model and tune the parameters to get an even lower mean square error."
   ]
  },
  {
   "cell_type": "code",
   "execution_count": 14,
   "id": "3ddd15bb",
   "metadata": {
    "execution": {
     "iopub.execute_input": "2021-08-02T22:25:30.888479Z",
     "iopub.status.busy": "2021-08-02T22:25:30.887656Z",
     "iopub.status.idle": "2021-08-02T22:51:13.235857Z",
     "shell.execute_reply": "2021-08-02T22:51:13.237258Z",
     "shell.execute_reply.started": "2021-08-02T14:58:34.409986Z"
    },
    "papermill": {
     "duration": 1542.38166,
     "end_time": "2021-08-02T22:51:13.237548",
     "exception": false,
     "start_time": "2021-08-02T22:25:30.855888",
     "status": "completed"
    },
    "tags": []
   },
   "outputs": [
    {
     "name": "stdout",
     "output_type": "stream",
     "text": [
      "Fitting 5 folds for each of 36 candidates, totalling 180 fits\n"
     ]
    },
    {
     "name": "stderr",
     "output_type": "stream",
     "text": [
      "[Parallel(n_jobs=-1)]: Using backend LokyBackend with 2 concurrent workers.\n",
      "[Parallel(n_jobs=-1)]: Done  46 tasks      | elapsed:  5.7min\n",
      "[Parallel(n_jobs=-1)]: Done 180 out of 180 | elapsed: 25.6min finished\n"
     ]
    }
   ],
   "source": [
    "# Increasing initial learning rate as model wasn't converging\n",
    "estimator = MLPRegressor(learning_rate_init=0.01, random_state=42)\n",
    "\n",
    "# Define the different parameters you want to test\n",
    "param_grid = {'hidden_layer_sizes': [(50,50,50), (50,100,50), (100,1)],\n",
    "          'activation': ['relu','tanh','logistic'],\n",
    "          'alpha': [0.0001, 0.05],\n",
    "          'learning_rate': ['constant','adaptive']}\n",
    "\n",
    "# Test different parameter combinations using root mean square error as score and get best parameters\n",
    "gsc = GridSearchCV(\n",
    "    estimator,\n",
    "    param_grid,\n",
    "    cv=5, scoring='neg_root_mean_squared_error', verbose=True, n_jobs=-1)\n",
    "\n",
    "grid_result = gsc.fit(X, y)\n",
    "\n",
    "best_params = grid_result.best_params_"
   ]
  },
  {
   "cell_type": "code",
   "execution_count": 15,
   "id": "850d7ac9",
   "metadata": {
    "execution": {
     "iopub.execute_input": "2021-08-02T22:51:13.332009Z",
     "iopub.status.busy": "2021-08-02T22:51:13.331067Z",
     "iopub.status.idle": "2021-08-02T22:51:13.335287Z",
     "shell.execute_reply": "2021-08-02T22:51:13.332779Z",
     "shell.execute_reply.started": "2021-08-02T15:23:04.009191Z"
    },
    "papermill": {
     "duration": 0.054101,
     "end_time": "2021-08-02T22:51:13.335467",
     "exception": false,
     "start_time": "2021-08-02T22:51:13.281366",
     "status": "completed"
    },
    "tags": []
   },
   "outputs": [
    {
     "name": "stdout",
     "output_type": "stream",
     "text": [
      "{'activation': 'relu', 'alpha': 0.0001, 'hidden_layer_sizes': (50, 50, 50), 'learning_rate': 'constant'}\n"
     ]
    }
   ],
   "source": [
    "#Find out what the best parameters were\n",
    "print(best_params)"
   ]
  },
  {
   "cell_type": "code",
   "execution_count": 16,
   "id": "29abc035",
   "metadata": {
    "execution": {
     "iopub.execute_input": "2021-08-02T22:51:13.393173Z",
     "iopub.status.busy": "2021-08-02T22:51:13.392446Z",
     "iopub.status.idle": "2021-08-02T22:51:38.631455Z",
     "shell.execute_reply": "2021-08-02T22:51:38.630518Z"
    },
    "papermill": {
     "duration": 25.26585,
     "end_time": "2021-08-02T22:51:38.631690",
     "exception": false,
     "start_time": "2021-08-02T22:51:13.365840",
     "status": "completed"
    },
    "tags": []
   },
   "outputs": [],
   "source": [
    "# Train MLP Regressor using best parameters\n",
    "best_mlp = MLPRegressor(hidden_layer_sizes = best_params[\"hidden_layer_sizes\"], \n",
    "                    activation = best_params[\"activation\"],\n",
    "                    alpha = best_params[\"alpha\"],\n",
    "                    learning_rate = best_params[\"learning_rate\"],\n",
    "                    max_iter= 1000,\n",
    "                    n_iter_no_change=100,\n",
    "                    random_state=42\n",
    "                    ).fit(X_train, y_train)"
   ]
  },
  {
   "cell_type": "code",
   "execution_count": 19,
   "id": "d500cd1c",
   "metadata": {
    "execution": {
     "iopub.execute_input": "2021-08-02T22:51:38.837111Z",
     "iopub.status.busy": "2021-08-02T22:51:38.836329Z",
     "iopub.status.idle": "2021-08-02T22:51:38.846565Z",
     "shell.execute_reply": "2021-08-02T22:51:38.847232Z",
     "shell.execute_reply.started": "2021-08-02T15:45:34.800853Z"
    },
    "papermill": {
     "duration": 0.037372,
     "end_time": "2021-08-02T22:51:38.847458",
     "exception": false,
     "start_time": "2021-08-02T22:51:38.810086",
     "status": "completed"
    },
    "tags": []
   },
   "outputs": [
    {
     "data": {
      "text/plain": [
       "0.7444619170980235"
      ]
     },
     "execution_count": 19,
     "metadata": {},
     "output_type": "execute_result"
    }
   ],
   "source": [
    "# Get mean square error of best mlp regressor\n",
    "val_preds = best_mlp.predict(X_val)\n",
    "mean_squared_error(y_val, val_preds, squared=False)"
   ]
  },
  {
   "cell_type": "code",
   "execution_count": 20,
   "id": "1c6a9e77",
   "metadata": {
    "execution": {
     "iopub.execute_input": "2021-08-02T22:51:38.947154Z",
     "iopub.status.busy": "2021-08-02T22:51:38.946193Z",
     "iopub.status.idle": "2021-08-02T22:51:38.950672Z",
     "shell.execute_reply": "2021-08-02T22:51:38.951839Z"
    },
    "papermill": {
     "duration": 0.059736,
     "end_time": "2021-08-02T22:51:38.952085",
     "exception": false,
     "start_time": "2021-08-02T22:51:38.892349",
     "status": "completed"
    },
    "tags": []
   },
   "outputs": [],
   "source": [
    "# Get X values from test set\n",
    "X_test = vectorizer.transform(test_data['excerpt'])"
   ]
  },
  {
   "cell_type": "code",
   "execution_count": 21,
   "id": "1fe1596e",
   "metadata": {
    "execution": {
     "iopub.execute_input": "2021-08-02T22:51:39.013609Z",
     "iopub.status.busy": "2021-08-02T22:51:39.012794Z",
     "iopub.status.idle": "2021-08-02T22:51:39.015308Z",
     "shell.execute_reply": "2021-08-02T22:51:39.014883Z"
    },
    "papermill": {
     "duration": 0.029864,
     "end_time": "2021-08-02T22:51:39.015424",
     "exception": false,
     "start_time": "2021-08-02T22:51:38.985560",
     "status": "completed"
    },
    "tags": []
   },
   "outputs": [],
   "source": [
    "# Predict values for test set\n",
    "test_preds = best_mlp.predict(X_test)"
   ]
  },
  {
   "cell_type": "code",
   "execution_count": 22,
   "id": "c7248ea9",
   "metadata": {
    "execution": {
     "iopub.execute_input": "2021-08-02T22:51:39.067643Z",
     "iopub.status.busy": "2021-08-02T22:51:39.067103Z",
     "iopub.status.idle": "2021-08-02T22:51:39.075111Z",
     "shell.execute_reply": "2021-08-02T22:51:39.074633Z"
    },
    "papermill": {
     "duration": 0.037314,
     "end_time": "2021-08-02T22:51:39.075231",
     "exception": false,
     "start_time": "2021-08-02T22:51:39.037917",
     "status": "completed"
    },
    "tags": []
   },
   "outputs": [],
   "source": [
    "# Output csv of predictions\n",
    "predictions = pd.DataFrame()\n",
    "predictions['id'] = test_data['id']\n",
    "predictions['target'] = test_preds\n",
    "predictions.to_csv(\"submission.csv\",index=False)"
   ]
  }
 ],
 "metadata": {
  "kernelspec": {
   "display_name": "Python 3",
   "language": "python",
   "name": "python3"
  },
  "language_info": {
   "codemirror_mode": {
    "name": "ipython",
    "version": 3
   },
   "file_extension": ".py",
   "mimetype": "text/x-python",
   "name": "python",
   "nbconvert_exporter": "python",
   "pygments_lexer": "ipython3",
   "version": "3.8.10"
  },
  "papermill": {
   "default_parameters": {},
   "duration": 1605.147797,
   "end_time": "2021-08-02T22:51:40.349113",
   "environment_variables": {},
   "exception": null,
   "input_path": "__notebook__.ipynb",
   "output_path": "__notebook__.ipynb",
   "parameters": {},
   "start_time": "2021-08-02T22:24:55.201316",
   "version": "2.3.3"
  }
 },
 "nbformat": 4,
 "nbformat_minor": 5
}
