{
 "cells": [
  {
   "cell_type": "code",
   "execution_count": 1,
   "id": "e42b83d7",
   "metadata": {
    "_cell_guid": "b1076dfc-b9ad-4769-8c92-a6c4dae69d19",
    "_uuid": "8f2839f25d086af736a60e9eeb907d3b93b6e0e5",
    "papermill": {
     "duration": 0.990198,
     "end_time": "2021-08-02T22:25:02.977575",
     "exception": false,
     "start_time": "2021-08-02T22:25:01.987377",
     "status": "completed"
    },
    "tags": []
   },
   "outputs": [],
   "source": [
    "# Import libraries\n",
    "import numpy as np\n",
    "import pandas as pd\n",
    "import matplotlib.pyplot as plt\n",
    "from sklearn.feature_extraction.text import TfidfVectorizer\n",
    "from sklearn.model_selection import train_test_split\n",
    "from sklearn.neural_network import MLPRegressor\n",
    "from sklearn import tree\n",
    "from sklearn.cross_decomposition import PLSRegression\n",
    "from sklearn.neighbors import KNeighborsRegressor\n",
    "from sklearn import svm\n",
    "from sklearn.kernel_ridge import KernelRidge\n",
    "from sklearn.metrics import mean_squared_error\n",
    "from sklearn.model_selection import GridSearchCV\n",
    "from sklearn.model_selection import cross_validate\n",
    "from sklearn.metrics import accuracy_score\n",
    "from sklearn.preprocessing import MaxAbsScaler\n",
    "from sklearn.metrics import mean_absolute_error\n",
    "from sklearn.model_selection import validation_curve\n",
    "from sklearn.model_selection import KFold\n",
    "np.random.seed(0)\n",
    "plt.style.use('ggplot')"
   ]
  },
  {
   "cell_type": "code",
   "execution_count": 2,
   "id": "131c44bd",
   "metadata": {
    "papermill": {
     "duration": 0.130503,
     "end_time": "2021-08-02T22:25:03.128340",
     "exception": false,
     "start_time": "2021-08-02T22:25:02.997837",
     "status": "completed"
    },
    "tags": []
   },
   "outputs": [],
   "source": [
    "# Import training and testing data\n",
    "train_data = pd.read_csv('train.csv')\n",
    "test_data = pd.read_csv('test.csv')"
   ]
  },
  {
   "cell_type": "code",
   "execution_count": 4,
   "id": "08bae9ff",
   "metadata": {
    "papermill": {
     "duration": 0.036512,
     "end_time": "2021-08-02T22:25:03.555001",
     "exception": false,
     "start_time": "2021-08-02T22:25:03.518489",
     "status": "completed"
    },
    "tags": []
   },
   "outputs": [],
   "source": [
    "train_data_trim = train_data[[\"id\", \"excerpt\", \"target\"]]"
   ]
  },
  {
   "cell_type": "code",
   "execution_count": 19,
   "id": "6e102606",
   "metadata": {
    "papermill": {
     "duration": 0.725543,
     "end_time": "2021-08-02T22:25:04.403442",
     "exception": false,
     "start_time": "2021-08-02T22:25:03.677899",
     "status": "completed"
    },
    "tags": []
   },
   "outputs": [],
   "source": [
    "# Vectorize words of train data\n",
    "vectorizer = TfidfVectorizer(\n",
    "    strip_accents='unicode',\n",
    "    stop_words='english',\n",
    "    token_pattern=r'(?u)\\b[A-Za-z]+\\b',\n",
    "    lowercase=True,\n",
    "    max_features=13000) #looped through multiple numbers and had minimal rmse with 13000 features\n",
    "\n",
    "X = vectorizer.fit_transform(train_data['excerpt'].values)\n",
    "\n",
    "# Get target values of train data\n",
    "y = train_data.loc[:,'target']"
   ]
  },
  {
   "cell_type": "code",
   "execution_count": 6,
   "id": "b930d7b3",
   "metadata": {
    "papermill": {
     "duration": 0.029743,
     "end_time": "2021-08-02T22:25:04.554448",
     "exception": false,
     "start_time": "2021-08-02T22:25:04.524705",
     "status": "completed"
    },
    "tags": []
   },
   "outputs": [],
   "source": [
    "# Split data into train and validation sets\n",
    "X_train, X_val, y_train, y_val = train_test_split(X, y, test_size = 0.2, random_state = 42)"
   ]
  },
  {
   "cell_type": "code",
   "execution_count": 8,
   "id": "29abc035",
   "metadata": {
    "papermill": {
     "duration": 25.26585,
     "end_time": "2021-08-02T22:51:38.631690",
     "exception": false,
     "start_time": "2021-08-02T22:51:13.365840",
     "status": "completed"
    },
    "tags": []
   },
   "outputs": [],
   "source": [
    "# Train MLP Regressor using best parameters\n",
    "best_mlp = MLPRegressor(hidden_layer_sizes = (50, 50, 50), \n",
    "                    activation = 'relu',\n",
    "                    alpha = 0.0001,\n",
    "                    learning_rate = 'constant',\n",
    "                    max_iter= 1000,\n",
    "                    n_iter_no_change=100,\n",
    "                    random_state=42\n",
    "                    ).fit(X_train, y_train)"
   ]
  },
  {
   "cell_type": "code",
   "execution_count": 23,
   "id": "3a6105e4-e97a-4c0b-a63e-3709e35d5b3c",
   "metadata": {},
   "outputs": [],
   "source": [
    "# Read csv file of top 100 books\n",
    "df = pd.read_csv('top100books.csv')"
   ]
  },
  {
   "cell_type": "code",
   "execution_count": 24,
   "id": "09033866-0cda-4883-8da7-c64733595df4",
   "metadata": {},
   "outputs": [
    {
     "data": {
      "text/html": [
       "<div>\n",
       "<style scoped>\n",
       "    .dataframe tbody tr th:only-of-type {\n",
       "        vertical-align: middle;\n",
       "    }\n",
       "\n",
       "    .dataframe tbody tr th {\n",
       "        vertical-align: top;\n",
       "    }\n",
       "\n",
       "    .dataframe thead th {\n",
       "        text-align: right;\n",
       "    }\n",
       "</style>\n",
       "<table border=\"1\" class=\"dataframe\">\n",
       "  <thead>\n",
       "    <tr style=\"text-align: right;\">\n",
       "      <th></th>\n",
       "      <th>book_code</th>\n",
       "      <th>book_title</th>\n",
       "      <th>book_author</th>\n",
       "      <th>book_downloads</th>\n",
       "      <th>book_content</th>\n",
       "    </tr>\n",
       "  </thead>\n",
       "  <tbody>\n",
       "    <tr>\n",
       "      <th>0</th>\n",
       "      <td>1342</td>\n",
       "      <td>Pride and Prejudice</td>\n",
       "      <td>Jane Austen</td>\n",
       "      <td>54222</td>\n",
       "      <td>It is a truth universally acknowledged, that ...</td>\n",
       "    </tr>\n",
       "    <tr>\n",
       "      <th>1</th>\n",
       "      <td>84</td>\n",
       "      <td>Frankenstein; Or, The Modern Prometheus</td>\n",
       "      <td>Mary Wollstonecraft Shelley</td>\n",
       "      <td>43135</td>\n",
       "      <td>St. Petersburgh, Dec. 11th, 17—. You will rej...</td>\n",
       "    </tr>\n",
       "    <tr>\n",
       "      <th>2</th>\n",
       "      <td>11</td>\n",
       "      <td>Alice's Adventures in Wonderland</td>\n",
       "      <td>Lewis Carroll</td>\n",
       "      <td>27199</td>\n",
       "      <td>Alice was beginning to get very tired of sitt...</td>\n",
       "    </tr>\n",
       "    <tr>\n",
       "      <th>3</th>\n",
       "      <td>16328</td>\n",
       "      <td>Beowulf: An Anglo-Saxon Epic Poem</td>\n",
       "      <td>NaN</td>\n",
       "      <td>25709</td>\n",
       "      <td>CONTENTS. The Heyne-Socin text and glossary h...</td>\n",
       "    </tr>\n",
       "    <tr>\n",
       "      <th>4</th>\n",
       "      <td>25344</td>\n",
       "      <td>The Scarlet Letter</td>\n",
       "      <td>Nathaniel Hawthorne</td>\n",
       "      <td>25582</td>\n",
       "      <td>BY NATHANIEL HAWTHORNE. Illustrated. The auth...</td>\n",
       "    </tr>\n",
       "  </tbody>\n",
       "</table>\n",
       "</div>"
      ],
      "text/plain": [
       "   book_code                               book_title  \\\n",
       "0       1342                      Pride and Prejudice   \n",
       "1         84  Frankenstein; Or, The Modern Prometheus   \n",
       "2         11         Alice's Adventures in Wonderland   \n",
       "3      16328        Beowulf: An Anglo-Saxon Epic Poem   \n",
       "4      25344                       The Scarlet Letter   \n",
       "\n",
       "                   book_author  book_downloads  \\\n",
       "0                  Jane Austen           54222   \n",
       "1  Mary Wollstonecraft Shelley           43135   \n",
       "2                Lewis Carroll           27199   \n",
       "3                          NaN           25709   \n",
       "4          Nathaniel Hawthorne           25582   \n",
       "\n",
       "                                        book_content  \n",
       "0   It is a truth universally acknowledged, that ...  \n",
       "1   St. Petersburgh, Dec. 11th, 17—. You will rej...  \n",
       "2   Alice was beginning to get very tired of sitt...  \n",
       "3   CONTENTS. The Heyne-Socin text and glossary h...  \n",
       "4   BY NATHANIEL HAWTHORNE. Illustrated. The auth...  "
      ]
     },
     "execution_count": 24,
     "metadata": {},
     "output_type": "execute_result"
    }
   ],
   "source": [
    "df.head()"
   ]
  },
  {
   "cell_type": "code",
   "execution_count": 25,
   "id": "fc6e6345-a61e-4335-972c-4dc7a0ab5765",
   "metadata": {},
   "outputs": [],
   "source": [
    "# Drop rows with no book content\n",
    "df.dropna(subset=['book_content'], inplace=True)"
   ]
  },
  {
   "cell_type": "code",
   "execution_count": 26,
   "id": "51842135-6b4b-4645-9b02-15f228aa6def",
   "metadata": {},
   "outputs": [],
   "source": [
    "# Vectorize text\n",
    "X_books = vectorizer.transform(df['book_content'].values)"
   ]
  },
  {
   "cell_type": "code",
   "execution_count": 29,
   "id": "ebce262e-d239-4f24-ad32-447a08c296b6",
   "metadata": {},
   "outputs": [],
   "source": [
    "# predict texts using model\n",
    "val_preds = best_mlp.predict(X_books)"
   ]
  },
  {
   "cell_type": "code",
   "execution_count": 30,
   "id": "05b1d344-6113-4a4b-b8d9-305bc6584065",
   "metadata": {},
   "outputs": [],
   "source": [
    "# Add predicted scores to dataframe\n",
    "df['book_score'] = val_preds"
   ]
  },
  {
   "cell_type": "code",
   "execution_count": 31,
   "id": "b7ad6069-dbbc-4b0a-ae08-3713cfa826b4",
   "metadata": {},
   "outputs": [
    {
     "data": {
      "text/html": [
       "<div>\n",
       "<style scoped>\n",
       "    .dataframe tbody tr th:only-of-type {\n",
       "        vertical-align: middle;\n",
       "    }\n",
       "\n",
       "    .dataframe tbody tr th {\n",
       "        vertical-align: top;\n",
       "    }\n",
       "\n",
       "    .dataframe thead th {\n",
       "        text-align: right;\n",
       "    }\n",
       "</style>\n",
       "<table border=\"1\" class=\"dataframe\">\n",
       "  <thead>\n",
       "    <tr style=\"text-align: right;\">\n",
       "      <th></th>\n",
       "      <th>book_code</th>\n",
       "      <th>book_title</th>\n",
       "      <th>book_author</th>\n",
       "      <th>book_downloads</th>\n",
       "      <th>book_content</th>\n",
       "      <th>book_score</th>\n",
       "    </tr>\n",
       "  </thead>\n",
       "  <tbody>\n",
       "    <tr>\n",
       "      <th>0</th>\n",
       "      <td>1342</td>\n",
       "      <td>Pride and Prejudice</td>\n",
       "      <td>Jane Austen</td>\n",
       "      <td>54222</td>\n",
       "      <td>It is a truth universally acknowledged, that ...</td>\n",
       "      <td>-1.350155</td>\n",
       "    </tr>\n",
       "    <tr>\n",
       "      <th>1</th>\n",
       "      <td>84</td>\n",
       "      <td>Frankenstein; Or, The Modern Prometheus</td>\n",
       "      <td>Mary Wollstonecraft Shelley</td>\n",
       "      <td>43135</td>\n",
       "      <td>St. Petersburgh, Dec. 11th, 17—. You will rej...</td>\n",
       "      <td>-3.098690</td>\n",
       "    </tr>\n",
       "    <tr>\n",
       "      <th>2</th>\n",
       "      <td>11</td>\n",
       "      <td>Alice's Adventures in Wonderland</td>\n",
       "      <td>Lewis Carroll</td>\n",
       "      <td>27199</td>\n",
       "      <td>Alice was beginning to get very tired of sitt...</td>\n",
       "      <td>-0.138250</td>\n",
       "    </tr>\n",
       "    <tr>\n",
       "      <th>3</th>\n",
       "      <td>16328</td>\n",
       "      <td>Beowulf: An Anglo-Saxon Epic Poem</td>\n",
       "      <td>NaN</td>\n",
       "      <td>25709</td>\n",
       "      <td>CONTENTS. The Heyne-Socin text and glossary h...</td>\n",
       "      <td>-2.585912</td>\n",
       "    </tr>\n",
       "    <tr>\n",
       "      <th>4</th>\n",
       "      <td>25344</td>\n",
       "      <td>The Scarlet Letter</td>\n",
       "      <td>Nathaniel Hawthorne</td>\n",
       "      <td>25582</td>\n",
       "      <td>BY NATHANIEL HAWTHORNE. Illustrated. The auth...</td>\n",
       "      <td>-3.256031</td>\n",
       "    </tr>\n",
       "  </tbody>\n",
       "</table>\n",
       "</div>"
      ],
      "text/plain": [
       "   book_code                               book_title  \\\n",
       "0       1342                      Pride and Prejudice   \n",
       "1         84  Frankenstein; Or, The Modern Prometheus   \n",
       "2         11         Alice's Adventures in Wonderland   \n",
       "3      16328        Beowulf: An Anglo-Saxon Epic Poem   \n",
       "4      25344                       The Scarlet Letter   \n",
       "\n",
       "                   book_author  book_downloads  \\\n",
       "0                  Jane Austen           54222   \n",
       "1  Mary Wollstonecraft Shelley           43135   \n",
       "2                Lewis Carroll           27199   \n",
       "3                          NaN           25709   \n",
       "4          Nathaniel Hawthorne           25582   \n",
       "\n",
       "                                        book_content  book_score  \n",
       "0   It is a truth universally acknowledged, that ...   -1.350155  \n",
       "1   St. Petersburgh, Dec. 11th, 17—. You will rej...   -3.098690  \n",
       "2   Alice was beginning to get very tired of sitt...   -0.138250  \n",
       "3   CONTENTS. The Heyne-Socin text and glossary h...   -2.585912  \n",
       "4   BY NATHANIEL HAWTHORNE. Illustrated. The auth...   -3.256031  "
      ]
     },
     "execution_count": 31,
     "metadata": {},
     "output_type": "execute_result"
    }
   ],
   "source": [
    "df.head()"
   ]
  },
  {
   "cell_type": "code",
   "execution_count": 33,
   "id": "f48e3ac5-4abe-46d3-a908-5b79a719b203",
   "metadata": {},
   "outputs": [],
   "source": [
    "df.to_csv('top100books_scored.csv', index=False, encoding=\"utf-8-sig\")"
   ]
  }
 ],
 "metadata": {
  "kernelspec": {
   "display_name": "Python 3",
   "language": "python",
   "name": "python3"
  },
  "language_info": {
   "codemirror_mode": {
    "name": "ipython",
    "version": 3
   },
   "file_extension": ".py",
   "mimetype": "text/x-python",
   "name": "python",
   "nbconvert_exporter": "python",
   "pygments_lexer": "ipython3",
   "version": "3.8.10"
  },
  "papermill": {
   "default_parameters": {},
   "duration": 1605.147797,
   "end_time": "2021-08-02T22:51:40.349113",
   "environment_variables": {},
   "exception": null,
   "input_path": "__notebook__.ipynb",
   "output_path": "__notebook__.ipynb",
   "parameters": {},
   "start_time": "2021-08-02T22:24:55.201316",
   "version": "2.3.3"
  }
 },
 "nbformat": 4,
 "nbformat_minor": 5
}
